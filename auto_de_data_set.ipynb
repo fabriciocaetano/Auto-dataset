{
  "cells": [
    {
      "cell_type": "markdown",
      "metadata": {
        "id": "view-in-github",
        "colab_type": "text"
      },
      "source": [
        "<a href=\"https://colab.research.google.com/github/fabriciocaetano/redirect/blob/main/auto_de_data_set.ipynb\" target=\"_parent\"><img src=\"https://colab.research.google.com/assets/colab-badge.svg\" alt=\"Open In Colab\"/></a>"
      ]
    },
    {
      "cell_type": "markdown",
      "metadata": {
        "id": "s_8ZP_7JOjM0"
      },
      "source": [
        "**olá :D, esta é uma ferramenta que ajuda na criação de datasets vocais, vamos começar ?** \n",
        "\n",
        "**1-⁰** rode a primeira célula se você possuir algum tipo de deficiência auditiva para alterar os parâmetros do colab para o modo de acessibilidade (em fase de criação).\n",
        "\n",
        "rode a segunda célula após inserir suas informações. ele instalará as dependências se ele ver que tem alguma faltando, e começará a fazer o trabalho, rode quantas vezes quiser, não precisa reiniciar o colab.\n",
        "\n",
        "ah, se tiver dúvidas, mesmo que esteja bem explicadinho, fiz um vídeo complementar de como usar: https://www.youtube.com/watch?v=rNgIOtc_WRQ&t=138s"
      ]
    },
    {
      "cell_type": "code",
      "execution_count": null,
      "metadata": {
        "id": "6Kt2FxpdO71Z",
        "cellView": "form"
      },
      "outputs": [],
      "source": [
        "#@title rode isso caso possua deficiência visual 😄\n",
        "#@markdown isso altera os parâmetros do colab para facilitar na manipulação dele via programas de leituras de tela (ainda em fase de criação).\n",
        "\n",
        "from ipywidgets import interact_manual, Widget, interact\n",
        "from IPython.display import HTML, Audio, display\n",
        "from google.colab import drive, files\n",
        "\n",
        "![[ -a automato.sh ]] || curl -s \"https://raw.githubusercontent.com/fabriciocaetano/redirect/main/automato.sh\" > automato.sh \n",
        "!chmod +x automato.sh\n",
        "\n",
        "var=0\n",
        "\n",
        "def youtube(topico):\n",
        "  !./automato.sh \"$linkagem\" \"$topico\" \"$nome\" \"40\" 1\n",
        "  files.download(\"pre_data.zip\")\n",
        "\n",
        "def nome(nome):\n",
        "  !./automato.sh \"$linkagem\" \"$topico\" \"$nome\" \"40\" 1\n",
        "  files.download(\"pre_data.zip\")\n",
        "\n",
        "def sound(link):\n",
        "  wn = Audio(link, autoplay=True)\n",
        "  display(wn)\n",
        "\n",
        "def enrol(link):\n",
        "  linkagem=link\n",
        "\n",
        "def entrada(tipo):\n",
        "  if tipo == \"1\" :\n",
        "    sound('https://telegra.ph/file/5bf09a7619c7b0a6374aa.mp4')\n",
        "    interact_manual(enrol, link='');\n",
        "#    languages = {'link ': '1', ' arqvos': '2', ' tópico': '3', 'conectar drive': '4'}\n",
        "#    interact_manual(youtube, topico=topico)\n",
        "\n",
        "  elif tipo == \"2\" :\n",
        "    sound('https://telegra.ph/file/bca2db29a5ac0d1b0fd0c.mp4')\n",
        "    uploaded = files.upload()\n",
        "\n",
        "  elif tipo == \"3\" :\n",
        "    sound('https://telegra.ph/file/bca2db29a5ac0d1b0fd0c.mp4')\n",
        "    interact_manual(nome, nome='');\n",
        "    languages = {'link do youtube': '1', 'enviar arquivos': '2', 'digitar tópico': '3', 'conectar drive': '4'}\n",
        "    interact_manual(entrada, tipo=languages)\n",
        "\n",
        "  elif tipo == \"4\" :\n",
        "    sound('https://telegra.ph/file/bca2db29a5ac0d1b0fd0c.mp4')\n",
        "    drive.mount('/content/drive')\n",
        "\n",
        "if var == 0:\n",
        "  var=1\n",
        "\n",
        "  sound('https://telegra.ph/file/771637e6ad1406e5ab256.mp4')\n",
        "  widgets.interact_manual.opts['manual_name'] = 'selecionar'\n",
        "  languages = {'link do youtube': '1', 'enviar arquivos': '2', 'digitar tópico': '3', 'conectar drive': '4'}\n",
        "  interact_manual(entrada, tipo=languages)\n",
        "\n",
        "!echo \"função ainda em desenvolvimento!\""
      ]
    },
    {
      "cell_type": "markdown",
      "metadata": {
        "id": "auhcdHjFPJAd"
      },
      "source": [
        "**2-⁰ download dos dados**\n",
        "\n",
        "você tem 4 formas de fazer isso:\n",
        "\n",
        "**1-** a primeira é: se tiver arquivos já separados, envie seus arquivos para o colab, pode ser fora das pastas, seja de forma separada ou compactada em zip ou rar, ou encaminhar do drive.\n",
        ";D eu me viro com a bagunça.\n",
        "\n",
        "**2-** a segunda é me enviar os links do youtube, sound cloud, tidal, spotfy ou links diretos do arquivo de mídia do site em questão (*por via das dúvidas, manda só do youtube, a testar as demais plataformas*), pode ser em qualquer formato, pois .... eu me viro para converter ;D\n",
        "\n",
        "**3-** a terceira é: insira o nome no campo de \"nome\", selecione o tópico de busca e a quantidade de vídeos máximos, e ... eu me viro para procurar, baixar, converter e unir tudinho ;D\n",
        "\n",
        "**4-** e a quarta é: nada, o que pode ser melhor do que isso tudo ? OwO"
      ]
    },
    {
      "cell_type": "markdown",
      "metadata": {
        "id": "2L0mP6KTLkfr"
      },
      "source": [
        "**DOWNLOAD | UPLOAD | MONTAGEM:**"
      ]
    },
    {
      "cell_type": "code",
      "execution_count": null,
      "metadata": {
        "cellView": "form",
        "id": "do9fBc-RLuJt"
      },
      "outputs": [],
      "source": [
        "#@title se quiser encaminhar algo do drive pra cá, rode isto para montar seu driver!\n",
        "from google.colab import drive\n",
        "drive.mount('/content/drive')"
      ]
    },
    {
      "cell_type": "code",
      "execution_count": null,
      "metadata": {
        "id": "u1gRNg7w6-ri"
      },
      "outputs": [],
      "source": [
        "#@title 2-⁰: demais/outros métodos: { display-mode: \"form\" }\n",
        "#@markdown 1-abaixo você deve inserir os links separados por virgula ',' : (forma demorada)\n",
        "links = \"\" #@param {type:\"string\"}\n",
        "#@markdown 2-se você não deseja procurar nada, informe a categoria e o nome do personagem que eu me viro para buscar, separar e baixar! :\n",
        "topico = 'none' #@param [\"none\", \"seriado\", \"filme\", \"desenho/anime\", \"youtuber\", \"documentário\"]\n",
        "nome = \"\" #@param {type:\"string\"}\n",
        "#@markdown 3-limite de vídeos que poderei baixar \"20 recomendado, 0 nenhum\":\n",
        "limite =   20#@param {type:\"number\"}\n",
        "\n",
        "#@markdown 4-não tem links ou não precisa que eu busque ? não tem problema, deixe os campos vazios e zerados, apenas faça o upload dos dados e:\n",
        "\n",
        "#@markdown **[ rode esta célula, e  seja feliz ;D ]**\n",
        "![[ -a automato.sh ]] || curl -s \"https://raw.githubusercontent.com/fabriciocaetano/redirect/main/automato.sh\" > automato.sh\n",
        "!chmod +x automato.sh\n",
        "!./automato.sh \"$links\" \"$topico\" \"$nome\" \"$limite\" 1\n",
        "from google.colab import files\n",
        "files.download(\"pre_data.zip\")\n"
      ]
    },
    {
      "cell_type": "code",
      "execution_count": null,
      "metadata": {
        "cellView": "form",
        "id": "4tMlVGOByF6j"
      },
      "outputs": [],
      "source": [
        "#@title (etapa final!) tratamento e transcrição\n",
        "#@markdown após ter baixado o pre_data.zip, analisado e reenviado, rode esta célula. \n",
        "#@markdown isso ira transcrever e gerar o \"list.txt\" do dataset\n",
        "\n",
        "#@markdown gerar apenas dataset sem transcrição ? marque a caixa abaixo!\n",
        "apenas_dataset = False #@param{type:\"boolean\"}\n",
        "!chmod +x automato.sh\n",
        "!./automato.sh \"\" \"\" \"\" \"\" $apenas_dataset\n",
        "from google.colab import files\n",
        "files.download(\"dataset.zip\")\n"
      ]
    },
    {
      "cell_type": "code",
      "execution_count": null,
      "metadata": {
        "id": "MuhYL0nhHyKt",
        "cellView": "form"
      },
      "outputs": [],
      "source": [
        "#@title não rode este colad (ignore), esta sendo  usado para pequenos testes.\n",
        "!#git clone 'https://github.com/lucassantilli/UVR-Colab-GUI' UVR_V5\n",
        "!#pip install -r UVR_V5/requirements.txt\n",
        "!#wget 'https://github.com/lucassantilli/UVR-Colab-GUI/releases/download/m5.1/HP2-MAIN-MSB2-3BAND-3090.pth'\n",
        "!#cd UVR_V5/;python3 inference.py -i \"/content/teste.mp3\" -P \"/content/HP2-MAIN-MSB2-3BAND-3090.pth\" -g 0 -m \"modelparams/3band_44100.json\" -n 537238KB -w 320 -t -H mirroring -A 0.2\n",
        "!#spleeter separate -p spleeter:4stems -o wavs/ teste.mp3\n",
        "!#spleeter --help\n",
        "\n",
        "# import IPython.display.HTML\n",
        "from IPython.display import HTML\n",
        "# criar string com o código html.\n",
        "\n",
        "html_data = \"\"\"\n",
        "<button onclick='runcolab()'>click here</button>\n",
        "\n",
        "<script>\n",
        "\n",
        "function runcolab(){\n",
        "  document.getElementById('audio').play();\n",
        "  document.querySelectorAll(\"colab-run-button\")[5].click();\n",
        "}\n",
        "</script>\n",
        "\n",
        "<audio id='audio' src='https://www.soundhelix.com/examples/mp3/SoundHelix-Song-1.mp3'>\n",
        "\"\"\"\n",
        "\n",
        "# criar objeto html.\n",
        "html = HTML(data=html_data)\n",
        "# mostrar código html no google colab\n",
        "html\n"
      ]
    }
  ],
  "metadata": {
    "colab": {
      "collapsed_sections": [],
      "name": "auto de data-set.ipynb",
      "provenance": [],
      "authorship_tag": "ABX9TyOrMywajF6GI5csq1ddLCqL",
      "include_colab_link": true
    },
    "kernelspec": {
      "display_name": "Python 3",
      "name": "python3"
    },
    "language_info": {
      "name": "python"
    }
  },
  "nbformat": 4,
  "nbformat_minor": 0
}