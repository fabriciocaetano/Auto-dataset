{
  "cells": [
    {
      "cell_type": "markdown",
      "metadata": {
        "id": "view-in-github",
        "colab_type": "text"
      },
      "source": [
        "<a href=\"https://colab.research.google.com/github/fabriciocaetano/Auto-dataset/blob/main/auto_de_data_set.ipynb\" target=\"_parent\"><img src=\"https://colab.research.google.com/assets/colab-badge.svg\" alt=\"Open In Colab\"/></a>"
      ]
    },
    {
      "cell_type": "markdown",
      "metadata": {
        "id": "s_8ZP_7JOjM0"
      },
      "source": [
        "**made by: @fabriciocybershell [Telegram][Instagram][Pinterest][Devianart][Github][Dev.to][Twitch.tv][Twitter \"fabriciocybersh\"][Reddit]**\n",
        "\n",
        "**olá :D, esta é uma ferramenta que ajuda na criação de datasets vocais, vamos começar ?** \n",
        "\n",
        "**1-⁰ (informação):**\n",
        "\n",
        " rode a primeira célula se você possuir algum tipo de deficiência visual para alterar os parâmetros do colab para o modo de acessibilidade (ainda pode conter alguns bugs).\n",
        "\n",
        "rode a célula número (2) após inserir suas informações. ele começará a fazer o trabalho, rode quantas vezes quiser, não precisa reiniciar o colab caso queira criar mais datasets ao final dos processos.\n",
        "\n",
        "ah, se tiver dúvidas, mesmo que esteja bem explicadinho, fiz um vídeo complementar de como usar: https://youtu.be/rNgIOtc_WRQ (o vídeo precisa de updates, a forma de usar esta atualmente mais fácil do que no vídeo)"
      ]
    },
    {
      "cell_type": "code",
      "execution_count": null,
      "metadata": {
        "id": "6Kt2FxpdO71Z",
        "cellView": "form"
      },
      "outputs": [],
      "source": [
        "#@title 1-(primeira célula): rode isso caso possua deficiência visual 😄\n",
        "#@markdown isso altera os parâmetros do colab para facilitar na manipulação dele via programas de leituras de tela (ainda em fase de criação, mas da para utilizar).\n",
        "\n",
        "#from ipywidgets import interact_manual, widgets, interact\n",
        "from IPython.display import Audio, display\n",
        "from google.colab import drive\n",
        "from google.colab import output\n",
        "from google.colab import files\n",
        "import os, sys, time\n",
        "\n",
        "![[ -a automato.sh ]] || curl -s \"https://raw.githubusercontent.com/fabriciocaetano/Auto-dataset/main/automato.sh\" > automato.sh \n",
        "!chmod +x automato.sh\n",
        "\n",
        "def youtube(link):\n",
        "  print(\"agora apenas aguarde o processo terminar ...\");\n",
        "  !./automato.sh \"$link\" \"$topico\" \"$nome\" \"40\" 1\n",
        "\n",
        "def run(topico):\n",
        "  !./automato.sh \"\" \"\" \"\" \"40\" 1\n",
        "\n",
        "def sound(link):\n",
        "  wn = Audio(link, autoplay=True)\n",
        "  display(wn)\n",
        "\n",
        "def entrada(tipo):\n",
        "  if tipo == \"1\" :\n",
        "#    sound('https://telegra.ph/file/a9dc566ecb2632a5641ac.mp4')\n",
        "#    time.sleep(2)\n",
        "    link=str(input('link: '))\n",
        "    youtube(link)  \n",
        "\n",
        "  elif tipo == \"2\" :\n",
        "    sound('https://telegra.ph/file/bca2db29a5ac0d1b0fd0c.mp4')\n",
        "    time.sleep(2)\n",
        "    print('selecione os arquivos:');\n",
        "    uploaded = files.upload()\n",
        "    run()\n",
        "\n",
        "  elif tipo == \"3\" :\n",
        "#    sound('https://telegra.ph/file/364e7b4c8b053342898f3.mp4')\n",
        "#    time.sleep(2)\n",
        "    print('digite o nome do personagem:');\n",
        "    nome=str(input('> '))\n",
        "    print('digite 1 se for seriado, 2 para filme, 3 para youtuber, 4 para anime ou desenho, 5 para documentário:');\n",
        "    topico=str(input('> '))\n",
        "    !./automato.sh \"$link\" \"$topico\" \"$nome\" \"40\" 1\n",
        "\n",
        "  elif tipo == \"4\" :\n",
        "    sound('https://telegra.ph/file/e77e99e7e5b01563dca8f.mp4')\n",
        "    time.sleep(2)\n",
        "    drive.mount('/content/drive')\n",
        "    sound('https://telegra.ph/file/91e9f9eaf517d35084faf.mp4')\n",
        "    time.sleep(2)\n",
        "    print('drive montado, informe o nome das pastas onde estão os arquivos:')\n",
        "    local=str(input('> '))\n",
        "    !cp \"$local\"* . || cp \"$local/\"* .\n",
        "    !./automato.sh \"\" \"\" \"\" \"0\" 1\n",
        "\n",
        "sound('https://telegra.ph/file/a9dc566ecb2632a5641ac.mp4')\n",
        "time.sleep(3)\n",
        "print('digite 1 para links do youtube, 2 para enviar arquivos, 3 para digitar tópico e 4 para conectar o google drive:')\n",
        "tipo=str(input('> '))\n",
        "entrada(tipo)\n",
        "\n",
        "#sound('https://telegra.ph/file/a9dc566ecb2632a5641ac.mp4')\n",
        "#time.sleep(3)\n",
        "\n",
        "output.clear()\n",
        "\n",
        "print('processo terminado!')\n",
        "\n",
        "print(\"\"\"\n",
        "\t============================================================================\n",
        "\tALERTA IMPORTANTE!\n",
        "\tno momento, todos os audios foram separados, um arquivo\n",
        "\tzip foi criado, chamado de pre_data ponto zip, estou baixando\n",
        "  ele para você!, pode demorar alguns instantes, ou ele não ser\n",
        "  baixado ao terminar dependendo do seu navegador,\n",
        "\n",
        "\tapague os ítens que não forem do seu personagem, os que forem,\n",
        "  mande novamente para o colab, compactado ou solto \"mude o\n",
        "\tnome, o arquivo pre_data será deletado\", e assim que o fizer,\n",
        "\trode a próxima célula abaixo para continuar o restante!\n",
        "\n",
        "\tOBS: tenha em vista que dependendo dos barulhos, alguns sons não\n",
        "  são bemovidos direito, então terá alguns áudios apenas com sons\n",
        "  estranhos, seu dever é remover eles, e remover as vozes dos outros\n",
        "  personagens, menos do personagen que você deseja.\n",
        "\t============================================================================\n",
        "\"\"\")\n",
        "\n",
        "files.download(\"pre_data.zip\")\n"
      ]
    },
    {
      "cell_type": "markdown",
      "metadata": {
        "id": "auhcdHjFPJAd"
      },
      "source": [
        "**2-⁰ (informação):**\n",
        "\n",
        "você tem 4 formas de fazer isso:\n",
        "\n",
        "a **primeira** é: se tiver arquivos já separados, envie seus arquivos para o colab, pode ser fora das pastas, seja de forma separada ou compactada em zip ou rar, ou encaminhar do drive.\n",
        ";D eu me viro com a bagunça.\n",
        "\n",
        "a **segunda** é me enviar os links do youtube, sound cloud, tidal, spotfy ou links diretos do arquivo de mídia do site em questão (*por via das dúvidas, manda só do youtube, a testar as demais plataformas*), pode ser em qualquer formato, pois .... eu me viro para converter ;D (observação, links do drive só funciona se for link público, que leve direto para o arquivo, e o arquivo seja um vídeo).\n",
        "\n",
        "a **terceira** é: insira o nome no campo de \"nome\", selecione o tópico de busca e a quantidade de vídeos máximos, e ... eu me viro para procurar, baixar, converter e unir tudinho ;D\n",
        "\n",
        "e a **quarta** é: nada, o que pode ser melhor do que isso tudo ? "
      ]
    },
    {
      "cell_type": "markdown",
      "metadata": {
        "id": "2L0mP6KTLkfr"
      },
      "source": [
        "abaixo temos os métodos descritos acima para fazer o :\n",
        "\n",
        "**DOWNLOAD** (youtube/drive...);\n",
        "\n",
        "**UPLOAD** (arquivo solto/compactado...);\n",
        "\n",
        "e/ou:\n",
        "\n",
        "**MONTAGEM** (montar google drive);\n",
        "\n",
        "para usar os dados para criar o **dataset**"
      ]
    },
    {
      "cell_type": "code",
      "execution_count": null,
      "metadata": {
        "cellView": "form",
        "id": "do9fBc-RLuJt"
      },
      "outputs": [],
      "source": [
        "#@title (célula de montagem do drive) se quiser encaminhar algo do google drive para cá, rode isto para montar seu driver!\n",
        "#@markdown em seguida, irei te pedir para informar o caminho da pasta até os arquivos.\n",
        "from google.colab import drive\n",
        "drive.mount('/content/drive')\n",
        "print('drive montado, informe o nome das pastas onde estão os arquivos:')\n",
        "local=str(input('> '))\n",
        "!cp \"$local\"* . 3>&- || cp \"$local/\"* . ; clear\n"
      ]
    },
    {
      "cell_type": "code",
      "execution_count": null,
      "metadata": {
        "id": "u1gRNg7w6-ri"
      },
      "outputs": [],
      "source": [
        "#@title 2-⁰(segunda célula): definir métodos de envio de dados, e iniciar criação do dataset: { display-mode: \"form\" }\n",
        "#@markdown 1-aqui, se você quiser baixar vídeos do youtube (playlists suportadas) ou drive (link público que leve direto pro vídeo no drive), deve inserir os links separados por virgula ',' (opcional)\n",
        "links = \"\" #@param {type:\"string\"}\n",
        "#@markdown 2-se você não deseja procurar nada (esta com preguiça ou cansado), selecione a categoria do conteúdo do personagem, e informe o nome do personagem e a quantidade máxima de conteúdo a ser baixado. eu me viro para buscar, separar/avaliar, e fazer o donwload! 😎\n",
        "topico = 'none' #@param [\"none\", \"seriado\", \"filme\", \"desenho/anime\", \"youtuber\", \"documentário\"]\n",
        "nome = \"\" #@param {type:\"string\"}\n",
        "#@markdown 3-limite de vídeos que poderei baixar: \"20 recomendado, 0 nenhum\"\n",
        "limite =   20#@param {type:\"number\"}\n",
        "\n",
        "#@markdown 4-se desejar enviar os arquivos que você possui, deixe todas as opções acima vazias e zeradas (ou não, vai que você quer todas as opções ;D), faça upload direto pelo colab \"sendo arquivos soltos ou compactados\", em qualquer formato de mídia em vídeo ou áudio, e em seguida, rode esta célula.\n",
        "\n",
        "#@markdown **[ rode esta célula para começar o processamento, e  seja feliz pegando uma pipoca e vendo um filme ;D. ]**\n",
        "#@markdown claro, pelo menos habilite a opção de notificação do colab para eu te informar quando a primeira etapa terminar.\n",
        "![[ -a automato.sh ]] || curl -s \"https://raw.githubusercontent.com/fabriciocaetano/Auto-dataset/main/automato.sh\" > automato.sh\n",
        "!chmod +x automato.sh\n",
        "!./automato.sh \"$links\" \"$topico\" \"$nome\" \"$limite\" 1\n",
        "from google.colab import files\n",
        "files.download(\"pre_data.zip\")\n"
      ]
    },
    {
      "cell_type": "code",
      "execution_count": null,
      "metadata": {
        "cellView": "form",
        "id": "4tMlVGOByF6j"
      },
      "outputs": [],
      "source": [
        "#@title 3-⁰(terceira célula: 🎊 etapa final 🎊): separação, transcrição e finalização da dataset.\n",
        "\n",
        "#@markdown aqui, eu irei pré-transcrever os áudios cortados, e em seguida, irei te acompanhar. \"você vai ver mais pra frente, eu irei te explicar na hora certa\"\n",
        "\n",
        "#@markdown basicamente ele irá rodar áudio por áudio, te perguntar se deseja deletar, pular ou transcrever \"e já exibir uma pré transcrição do áudio pra facilitar ou copiar e colar\". quando terminar, receberá uma dataset pronta e completa para treinamento!\n",
        "\n",
        "#@markdown os dados sairão convertidos, organizados na estrutura padrão de pastas, no tamanho correto entre 1 e 12 segundos, no formato wav, com 44050HZ de frequência, e no canal mono 💥! \n",
        "\n",
        "#@markdown (OBS: parte disso já realizado pela célula acima, se for direto por aqui, terá que converter manualmente).\n",
        "\n",
        "![[ -a automato.sh ]] || curl -s \"https://raw.githubusercontent.com/fabriciocaetano/Auto-dataset/main/automato.sh\" > automato.sh\n",
        "!chmod +x automato.sh\n",
        "\n",
        "import os, time\n",
        "from IPython.display import Audio\n",
        "from google.colab import output\n",
        "\n",
        "def sound(link):\n",
        "  wn = Audio(link, autoplay=True)\n",
        "  display(wn)\n",
        "\n",
        "![[ -a wavs ]] || mkdir wavs\n",
        "#!unzip pre_data.zip\n",
        "output.clear()\n",
        "\n",
        "!echo \"iniciando pré transcrição\"\n",
        "!./automato.sh \"\" \"\" \"\" \"\" \"false\" 1\n",
        "output.clear()\n",
        "\n",
        "for x in os.listdir('wavs/'):\n",
        "    if x.endswith(\".wav\"):\n",
        "        # Prints only text file present in My Folder\n",
        "        sound('wavs/'+x)\n",
        "        !./automato.sh \"\" \"\" \"\" \"\" \"false\" 2 \"wavs/$x\"\n",
        "        print('''dê enter sem escrever nada para deletar o audio.\n",
        "        para pular o audio sem deletar, digite \"saltar\".\n",
        "        para transcrever, digite qualquer coisa, e será considerado\n",
        "        transcrição.''')\n",
        "        time.sleep(1)\n",
        "        opt=str(input('> '))\n",
        "        if opt == '':\n",
        "          !rm -rf \"wavs/$x\"\n",
        "        elif opt != '':\n",
        "          if opt != 'saltar':\n",
        "            !echo \"wavs/$x|$opt\" >> list.txt\n",
        "          if opt == 'saltar':\n",
        "            !echo \"wavs/$x|\" >> list.txt\n",
        "        output.clear()\n",
        "\n",
        "# revisar arquivo de transcript, e verificar terminações com ','\n",
        "!./automato.sh \"\" \"\" \"\" \"\" \"false\" 3\n",
        "\n",
        "![[ -a pre_data.zip ]] && rm pre_data.zip\n",
        "!echo -e \"\\n\\nrealizando compactação e download ...\\n\\n\"\n",
        "!zip -r dataset.zip list.txt wavs/*\n",
        "!echo -e \"\\n\\nbaixando ...\\n\\n\"\n",
        "files.download(\"dataset.zip\")\n",
        "output.clear()"
      ]
    },
    {
      "cell_type": "code",
      "execution_count": null,
      "metadata": {
        "id": "MuhYL0nhHyKt",
        "cellView": "form"
      },
      "outputs": [],
      "source": [
        "#@title não rode esta célula (célula de teste para desenvolvimento de recursos futuros), esta sendo usado para pequenos testes e experimentações.\n",
        "\n",
        "#@markdown as opções abaixo não são necessárias mexer, a não ser que deseja alterar alguma coisa ou saiba o que esta fazendo.\n",
        "\n",
        "#@markdown a forma como está a configuração abaixo é o padrão do algoritmo, altere apenas se tiver certeza absoluta do que esta fazendo!\n",
        "#@markdown senão acabará recebendo arquivos com quase nenhum corte, partes faltando ou com cortes em excesso.\n",
        "\n",
        "#@markdown selecione a % que será considerado o silêncio:\n",
        "sensibilidade_inicial = 0.1 #@param {type:\"slider\", min:0.1, max:5, step:0.1}\n",
        "#@markdown selecione o tempo de som que será ouvido antes de iniciar o corte em ms (mili segundos):\n",
        "tempo_inicial = 0.100 #@param {type:\"number\"}\n",
        "\n",
        "#@markdown selecione a % que será considerado o silêncio:\n",
        "sensibilidade_final = 0.1 #@param {type:\"slider\", min:0.1, max:5, step:0.1}\n",
        "#@markdown selecione o tempo de silêncio que será considerado antes de finalizar o corte em ms (mili segundos):\n",
        "tempo_final = 0.050 #@param {type:\"number\"}\n",
        "!zip -r dataset2.zip list.txt wavs/*"
      ]
    }
  ],
  "metadata": {
    "colab": {
      "collapsed_sections": [],
      "name": "auto de data-set.ipynb",
      "provenance": [],
      "authorship_tag": "ABX9TyOkv0ByJEpGvJVcpAdFu80M",
      "include_colab_link": true
    },
    "kernelspec": {
      "display_name": "Python 3",
      "name": "python3"
    },
    "language_info": {
      "name": "python"
    }
  },
  "nbformat": 4,
  "nbformat_minor": 0
}